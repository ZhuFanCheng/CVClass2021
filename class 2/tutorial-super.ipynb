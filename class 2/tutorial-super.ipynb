{
 "cells": [
  {
   "cell_type": "markdown",
   "id": "4d250429-ffdc-44b8-b28d-46db15cebb58",
   "metadata": {},
   "source": [
    "### Q1\n",
    "Write a new class \"rectangle\" with 2 attributes (length and width). Define 2 functions for this class: area and perimeter.\n",
    "\n",
    "Create an instance of a \"rectangle\" class to test your code."
   ]
  },
  {
   "cell_type": "code",
   "execution_count": 9,
   "id": "424c6ed8-5ab3-4ac2-a822-14b160eabcab",
   "metadata": {},
   "outputs": [
    {
     "name": "stdout",
     "output_type": "stream",
     "text": [
      "Area is  12 , and perimeter is  14\n"
     ]
    }
   ],
   "source": [
    "...\n",
    "rectangle = Rectangle(3,4)\n",
    "print(\"Area is \",rectangle.area(), \", and perimeter is \",rectangle.perimeter())"
   ]
  },
  {
   "cell_type": "markdown",
   "id": "0a97ce92-01a9-4580-bd13-9a718bc59fac",
   "metadata": {},
   "source": [
    "### Q2\n",
    "Write a \"Square class\" with \"width\" attribute and 2 functions: area and perimeter."
   ]
  },
  {
   "cell_type": "code",
   "execution_count": 8,
   "id": "0e55bfbe-189f-4093-beb0-187fe9828e70",
   "metadata": {},
   "outputs": [
    {
     "name": "stdout",
     "output_type": "stream",
     "text": [
      "Area is  16 , and perimeter is  16\n"
     ]
    }
   ],
   "source": [
    "...\n",
    "square = Square(4)\n",
    "print(\"Area is \",square.area(), \", and perimeter is \",square.perimeter())"
   ]
  },
  {
   "cell_type": "markdown",
   "id": "03aec2fe-09cc-47cf-9ff3-d9763d5fb43f",
   "metadata": {},
   "source": [
    "We can make this code writing even faster if we recognise that \"Square\" is related to \"rectangle\" and linking them together using the \"super\" function.\n",
    "\n",
    "First, in the class definition, you can define the class as \n",
    "\n",
    "\\<class name\\> (\\<parent class name\\>)\n",
    "\n",
    "this way the class can \"inherit\" things from the parent class.\n",
    "\n",
    "If we now write, inside of the \\_\\_init\\_\\_ function\n",
    "```\n",
    "super.(<name of class>, self)__init__(<attributes of the parent class>)\n",
    "```\n",
    "Then the child class is a sub-class of the parent class.\n",
    "\n",
    "Let's try to do this with Rectangle / Square example:"
   ]
  },
  {
   "cell_type": "code",
   "execution_count": 19,
   "id": "6e0287ab-9e3f-4bd3-acc3-2521db1dba48",
   "metadata": {},
   "outputs": [
    {
     "data": {
      "text/plain": [
       "4"
      ]
     },
     "execution_count": 19,
     "metadata": {},
     "output_type": "execute_result"
    }
   ],
   "source": [
    "class Square(Rectangle):\n",
    "    def __init__(self, length):\n",
    "        super(Square,self).__init__(length, length)\n",
    "square = Square(4)\n",
    "print(\"Area is \",square.area(), \", and perimeter is \",square.perimeter())"
   ]
  },
  {
   "cell_type": "markdown",
   "id": "aaf3feeb-132a-47b0-9051-6909bc5d1dee",
   "metadata": {},
   "source": [
    "Super(subclass,self) does not only work with ````__init__```` method. It also works with other functions defined in the subclass.\n",
    "\n",
    "For example, we can directly call ````super(Square, self).area()```` inside of another class to get to the ````area()```` function inside the Square class\n",
    "\n",
    "### Q3\n",
    "Define a new class \"Cube\" and use the ````super```` syntax to define 2 functions for this class: volume and surface area, by calling the ````Square```` class as a subclass.\n",
    "\n",
    "*HINT: When calling functions from your ````cube```` class, you will need to use, as input, an instance of ````Square```` class.*"
   ]
  },
  {
   "cell_type": "code",
   "execution_count": 32,
   "id": "e621cdbe-d4d3-4fc4-924d-6478896cf383",
   "metadata": {},
   "outputs": [
    {
     "name": "stdout",
     "output_type": "stream",
     "text": [
      "volume is  8\n"
     ]
    }
   ],
   "source": [
    "...\n",
    "cube = Cube\n",
    "print(\"volume is \",...)"
   ]
  },
  {
   "cell_type": "markdown",
   "id": "88037494-fc9f-4ae4-abf6-d2eb4557c555",
   "metadata": {},
   "source": [
    "*Some advice: we VERY RARELY use \"super(subclass,self)\" syntax anywhere else than at the beginnning of the class definition for inheriting the ````__init__```` attributes. It is OK if you only memorize that ````super```` can be used as a way to inherit the basic attributes of another class. You usually will just copy other people's code with ````super in it, and won't have to think about it too much. However, it is important you appreciate what ````super```` does as it comes up a lot when using Pytorch.*"
   ]
  }
 ],
 "metadata": {
  "kernelspec": {
   "display_name": "Python 3",
   "language": "python",
   "name": "python3"
  },
  "language_info": {
   "codemirror_mode": {
    "name": "ipython",
    "version": 3
   },
   "file_extension": ".py",
   "mimetype": "text/x-python",
   "name": "python",
   "nbconvert_exporter": "python",
   "pygments_lexer": "ipython3",
   "version": "3.8.8"
  }
 },
 "nbformat": 4,
 "nbformat_minor": 5
}
