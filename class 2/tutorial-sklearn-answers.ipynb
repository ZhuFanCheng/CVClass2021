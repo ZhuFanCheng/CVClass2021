{
 "cells": [
  {
   "cell_type": "markdown",
   "id": "423dc2a1-06b7-4470-8774-eae5b2a57245",
   "metadata": {},
   "source": [
    "## Recognising hand-written digits with a deep model\n",
    "\n",
    "In this tutorial we will use the library called sklearn to build a simple deep network that will learn to recognise hand-written digits from the well-known MNIST dataset."
   ]
  },
  {
   "cell_type": "code",
   "execution_count": 1,
   "id": "924bcaf7-66d9-48cf-9d05-0b10d40b8d49",
   "metadata": {},
   "outputs": [],
   "source": [
    "# import matplotlib for results visualization\n",
    "import matplotlib.pyplot as plt\n",
    "# import the dataset and the deep model from sklearn\n",
    "from sklearn import datasets"
   ]
  },
  {
   "cell_type": "markdown",
   "id": "51926705-65d6-45d7-87bc-b8eef349cfd5",
   "metadata": {},
   "source": [
    "### Preparing the dataset\n",
    "In sklearn we can directly download the MNIST dataset and see a couple of examples of data points."
   ]
  },
  {
   "cell_type": "code",
   "execution_count": 2,
   "id": "9d7bb6fe-385a-4d3c-a3d9-451ea26edccd",
   "metadata": {},
   "outputs": [
    {
     "data": {
      "image/png": "[encoded data removed]",
      "text/plain": [
       "<Figure size 720x216 with 4 Axes>"
      ]
     },
     "metadata": {
      "needs_background": "light"
     },
     "output_type": "display_data"
    }
   ],
   "source": [
    "digits = datasets.load_digits()\n",
    "labels = digits.target\n",
    "_, axes = plt.subplots(nrows=1, ncols=4, figsize=(10, 3))\n",
    "for ax, image, label in zip(axes, digits.images, digits.target):\n",
    "    ax.set_axis_off()\n",
    "    ax.imshow(image, cmap=plt.cm.gray_r, interpolation='nearest')\n",
    "    ax.set_title('Label: %i' % label)"
   ]
  },
  {
   "cell_type": "markdown",
   "id": "cac65fe3-dbdc-40f6-aa6a-af4d17956a1d",
   "metadata": {},
   "source": [
    "### Q1\n",
    "How big is your dataset?"
   ]
  },
  {
   "cell_type": "markdown",
   "id": "23f3b19a-49dc-4be6-a4f4-e4f419aee042",
   "metadata": {},
   "source": [
    "### Q2\n",
    "Why do you think we do the following?"
   ]
  },
  {
   "cell_type": "code",
   "execution_count": 3,
   "id": "8dc06547-3e08-4530-a351-58023f131472",
   "metadata": {},
   "outputs": [],
   "source": [
    "data = digits.images.reshape((len(digits.images), -1))"
   ]
  },
  {
   "cell_type": "markdown",
   "id": "1c41f04f-c905-4879-a561-5cdf0281dfb9",
   "metadata": {},
   "source": [
    "Variable \"digits\" will now store all the pictures, while \"labels\" will store the labels."
   ]
  },
  {
   "cell_type": "markdown",
   "id": "617792b5-f55d-4932-b0b0-c42f485ac99c",
   "metadata": {},
   "source": [
    "Instead of building the deep network node by node, we can use a ready-made class MLPClassifier (multi-layer perceptron classifier) obtained from sklearn.neural_network library. You can import this class directly.\n",
    "\n",
    "### Q3\n",
    "Import the MLPClassifier model"
   ]
  },
  {
   "cell_type": "code",
   "execution_count": 4,
   "id": "601020e7-11b1-46a8-a507-febcdbf28bcc",
   "metadata": {},
   "outputs": [],
   "source": [
    "# import the MLP model for classification\n",
    "from sklearn.neural_network import MLPClassifier"
   ]
  },
  {
   "cell_type": "markdown",
   "id": "f36b8a3e-cf2c-4865-9842-a13add3fa4f5",
   "metadata": {},
   "source": [
    "Split the dataset into training and testing subsets, using the \"train_test_split\" function from sklearn.model_selection library.\n",
    "\n",
    "If you are unsure of how to use this function, \"Google\" it to find the sklearn library documentation here:\n",
    "https://scikit-learn.org/stable/modules/generated/sklearn.model_selection.train_test_split.html"
   ]
  },
  {
   "cell_type": "markdown",
   "id": "a61dafcb-6814-42f1-b444-13fae84fe783",
   "metadata": {},
   "source": [
    "### Q4 \n",
    "Split the dataset into train / test subsets"
   ]
  },
  {
   "cell_type": "code",
   "execution_count": 5,
   "id": "e34a2e99-4a8e-4958-a5ef-c57bae89a5ef",
   "metadata": {},
   "outputs": [],
   "source": [
    "from sklearn.model_selection import train_test_split\n",
    "test_size=0.2\n",
    "X_train, X_test, y_train, y_test = train_test_split(\n",
    "    data, labels, test_size = test_size, shuffle=True)"
   ]
  },
  {
   "cell_type": "markdown",
   "id": "817f7944-5396-4cf3-b69e-ae7043725a54",
   "metadata": {},
   "source": [
    "Define your model. You can find different attributes of the MLPClassifier class online here:\n",
    "https://scikit-learn.org/stable/modules/generated/sklearn.neural_network.MLPClassifier.html#sklearn.neural_network.MLPClassifier\n",
    "\n",
    "See how many of these attroibutes make sense to you. If you don't explicitely define values of some (or even all) of these attributes, they will take default values."
   ]
  },
  {
   "cell_type": "markdown",
   "id": "f340ec01-39fe-42a4-a74d-9c465c45df6a",
   "metadata": {},
   "source": [
    "### Q5\n",
    "Define your model as an instance of the MLPClassifier class."
   ]
  },
  {
   "cell_type": "code",
   "execution_count": 6,
   "id": "03bb19ef-b41e-4dcc-b3d8-a0ebbad3392a",
   "metadata": {},
   "outputs": [],
   "source": [
    "hidden_layer_sizes = (100,100,100,)\n",
    "model = MLPClassifier(hidden_layer_sizes=hidden_layer_sizes,alpha=0.001)"
   ]
  },
  {
   "cell_type": "markdown",
   "id": "626a68aa-b047-466c-b6b6-e5cfae484ca0",
   "metadata": {},
   "source": [
    "### Q6\n",
    "Train the model by applying the function \"fit\" to the model itself. The arguments of this function should be the training dataset (adn training labels)."
   ]
  },
  {
   "cell_type": "code",
   "execution_count": 7,
   "id": "dedbf5c2-eaaa-43ac-a4ba-3002863f079f",
   "metadata": {},
   "outputs": [
    {
     "data": {
      "text/plain": [
       "MLPClassifier(alpha=0.001, hidden_layer_sizes=(100, 100, 100))"
      ]
     },
     "execution_count": 7,
     "metadata": {},
     "output_type": "execute_result"
    }
   ],
   "source": [
    "model.fit(X_train, y_train)"
   ]
  },
  {
   "cell_type": "markdown",
   "id": "75aeb35d-72cd-43ad-8639-2421dad45ee3",
   "metadata": {},
   "source": [
    "You can obtain the accuracy of your model by using the function \"score\" applied to the model, with arguments being the test dataset.\n",
    "\n",
    "### Q7\n",
    "Find the accuracy of the model"
   ]
  },
  {
   "cell_type": "code",
   "execution_count": 8,
   "id": "c8ee1c8a-d867-4aa0-af0d-c029a83330a7",
   "metadata": {},
   "outputs": [
    {
     "data": {
      "text/plain": [
       "0.9861111111111112"
      ]
     },
     "execution_count": 8,
     "metadata": {},
     "output_type": "execute_result"
    }
   ],
   "source": [
    "model.score(X_test, y_test)"
   ]
  },
  {
   "cell_type": "markdown",
   "id": "4a7f5b3f-1894-40ee-9842-182ee175e73d",
   "metadata": {},
   "source": [
    "In order to assess \"how bad\" the model did, we can analyze carefully the cases where the model predicted wrong labels.\n",
    "\n",
    "We can do this by looking at the number of false positives and false negatives and compare it with numbers of true positives and true negatives.\n",
    "\n",
    "Confusion_matrix is a sklearn function that you can import from sklearn.metrics library. It takes 2 arguments: true labels and predicted labels.\n",
    "\n",
    "### Q8\n",
    "Display the confusion matrix for your trained model.\n",
    "\n",
    "Hint：  you can get predicted labels to your model by applying the \"predict\" function directly to your model, with arguments being the correct dataset."
   ]
  },
  {
   "cell_type": "code",
   "execution_count": 9,
   "id": "71e11710-d3b4-4d54-9905-9a1f9b66b600",
   "metadata": {},
   "outputs": [
    {
     "data": {
      "text/plain": [
       "array([[32,  0,  0,  0,  0,  0,  0,  0,  0,  0],\n",
       "       [ 0, 35,  0,  0,  0,  0,  0,  0,  0,  0],\n",
       "       [ 0,  0, 39,  0,  0,  0,  0,  0,  0,  0],\n",
       "       [ 0,  0,  0, 36,  0,  0,  0,  0,  0,  0],\n",
       "       [ 0,  0,  0,  0, 36,  0,  0,  0,  0,  1],\n",
       "       [ 0,  0,  0,  0,  1, 49,  0,  0,  0,  1],\n",
       "       [ 0,  0,  0,  0,  0,  0, 31,  0,  0,  0],\n",
       "       [ 0,  0,  0,  0,  0,  0,  0, 31,  1,  0],\n",
       "       [ 0,  1,  0,  0,  0,  0,  0,  0, 36,  0],\n",
       "       [ 0,  0,  0,  0,  0,  0,  0,  0,  0, 30]])"
      ]
     },
     "execution_count": 9,
     "metadata": {},
     "output_type": "execute_result"
    }
   ],
   "source": [
    "pred = model.predict(X_test)\n",
    "from sklearn.metrics import confusion_matrix\n",
    "confusion_matrix(y_test,pred)"
   ]
  },
  {
   "cell_type": "code",
   "execution_count": null,
   "id": "07ba5d17-242d-4f67-8ec5-13f4bc703d75",
   "metadata": {},
   "outputs": [],
   "source": []
  },
  {
   "cell_type": "code",
   "execution_count": null,
   "id": "83ae3707-76b9-4c21-8206-442cc0a2e439",
   "metadata": {},
   "outputs": [],
   "source": []
  }
 ],
 "metadata": {
  "kernelspec": {
   "display_name": "Python 3",
   "language": "python",
   "name": "python3"
  },
  "language_info": {
   "codemirror_mode": {
    "name": "ipython",
    "version": 3
   },
   "file_extension": ".py",
   "mimetype": "text/x-python",
   "name": "python",
   "nbconvert_exporter": "python",
   "pygments_lexer": "ipython3",
   "version": "3.8.8"
  }
 },
 "nbformat": 4,
 "nbformat_minor": 5
}
