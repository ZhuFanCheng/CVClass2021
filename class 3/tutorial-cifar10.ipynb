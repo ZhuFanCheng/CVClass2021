{
 "cells": [
  {
   "cell_type": "markdown",
   "metadata": {},
   "source": [
    "## Computer Vision: building a CNN in Pytorch for image classification\n",
    "In this tutorial we will use the Python Pytorch library to build a Convolutional Neural Network model and train it to recognize pictures of different objects.\n",
    "\n",
    "First, we import the necessary libraries and the dataset.\n",
    "\n",
    "The CIFAR10 dataset is one of the most famous and commonly used Computer Vision benchmark data sets - you would find it used in most Computer Vision publications."
   ]
  },
  {
   "cell_type": "code",
   "execution_count": null,
   "metadata": {
    "collapsed": false,
    "jupyter": {
     "outputs_hidden": false
    }
   },
   "outputs": [],
   "source": [
    "%matplotlib inline\n",
    "import torch\n",
    "import torchvision\n",
    "import torchvision.transforms as transforms\n",
    "import matplotlib.pyplot as plt\n",
    "import numpy as np"
   ]
  },
  {
   "cell_type": "code",
   "execution_count": null,
   "metadata": {
    "collapsed": false,
    "jupyter": {
     "outputs_hidden": false
    }
   },
   "outputs": [],
   "source": [
    "import data_loader"
   ]
  },
  {
   "cell_type": "markdown",
   "metadata": {},
   "source": [
    "For data import we already defined a new class and function to make it more straightforward. You are welcome to have a look at the ````data_loader.py```` file to understand how the dataset is loaded."
   ]
  },
  {
   "cell_type": "code",
   "execution_count": null,
   "metadata": {},
   "outputs": [],
   "source": [
    "trainset, testset, trainloader, testloader = data_loader.load_data()"
   ]
  },
  {
   "cell_type": "markdown",
   "metadata": {},
   "source": [
    "Let us show some of the training images, for fun.\n",
    "\n"
   ]
  },
  {
   "cell_type": "markdown",
   "metadata": {},
   "source": [
    "## Q1 Building your model architecture\n",
    "Now, time to get to modeling work!\n",
    "\n",
    "Let's construct a CNN model with all diffrent layers we learned about.\n",
    "\n",
    "Your model should contain:\n",
    "* convolutional layers. You can automatically define them by using the ````Conv2d```` function from ````torch.nn```` library.\n",
    "* pooling layers. You can automatically define them by using the ````MaxPool2d```` function from ````torch.nn```` library.\n",
    "* fully-connected layers. You can automatically define them by using the ````Linear```` function from ````torch.nn```` library.\n",
    "\n",
    "*HINT:* Be careful with sizes of different layers in your network, as well as sizes of convolutional kernels etc.\n",
    "*HINT 2:* Don't forget to define a ````forward```` function as part of your model class to tell the model how to process inputs (data)."
   ]
  },
  {
   "cell_type": "code",
   "execution_count": null,
   "metadata": {
    "collapsed": false,
    "jupyter": {
     "outputs_hidden": false
    }
   },
   "outputs": [],
   "source": [
    "import torch.nn as nn\n",
    "import torch.nn.functional as F\n",
    "\n",
    "\n",
    "class Net(nn.Module):\n",
    "    def __init__(self):\n",
    "        \n",
    "\n",
    "    def :\n",
    "        \n",
    "        return \n",
    "\n",
    "net = Net()\n",
    "print(net)"
   ]
  },
  {
   "cell_type": "markdown",
   "metadata": {},
   "source": [
    "## Q2 Loss and Optimizer\n",
    "Define a loss function and an optimizer.\n",
    "\n",
    "* The loss function you can assume to be the *CrossEntropyLoss* that comes from the ````torch.nn```` library.\n",
    "* The optimizer you can assume to be the Stochastic Gradient Descent (*SGD*) that comes from the ````torch.optim```` library."
   ]
  },
  {
   "cell_type": "code",
   "execution_count": null,
   "metadata": {
    "collapsed": false,
    "jupyter": {
     "outputs_hidden": false
    }
   },
   "outputs": [],
   "source": [
    "criterion = \n",
    "optimizer = "
   ]
  },
  {
   "cell_type": "markdown",
   "metadata": {},
   "source": [
    "## Q3 Training your model\n",
    "Train your network!\n",
    "\n",
    "Don't forget to\n",
    "* use a loop: you need to train your model \"stpe by step\"\n",
    "* at each step, keep track of the value of your loss (*is my model actually training?*)\n",
    "* at each step, keep track of the value of your accuracy (*is my model getting closer and closer to perfection?*)\n",
    "* kill gradients at the beginning of your loop with ````zero_grad()```` function applied to your **optimizer**\n",
    "* apply the backward step (````backward()```` function applied to your **loss**) at the end of your loop, to update parameters and keep the model training\n",
    "* apply ````step()```` to your **optimizer** after the backward step to finish the training loop"
   ]
  },
  {
   "cell_type": "code",
   "execution_count": null,
   "metadata": {
    "collapsed": false,
    "jupyter": {
     "outputs_hidden": false
    }
   },
   "outputs": [],
   "source": [
    "max_epoch = \n",
    "\n",
    "for epoch in range(max_epoch):  # loop over the dataset multiple times\n",
    "\n",
    "    running_loss = 0.0\n",
    "\n",
    "    ## note how this for loop is formulated\n",
    "    ## we iterate over enumerated ````trainloader````: trainloder is an example of a dataloader. Dataloaders (1) shuffle your data set, (2) sample from your dataset (training happens in batches)\n",
    "    for i, data in enumerate(trainloader, 0):\n",
    "        # get the inputs; data is a list of [inputs, labels]\n",
    "        \n",
    "        #print every 2000 mini-batches\n",
    "            \n",
    "\n",
    "print('Finished Training')"
   ]
  },
  {
   "cell_type": "markdown",
   "metadata": {},
   "source": [
    "### Q4 Visualizing training accuracy and training loss\n",
    "\n",
    "Use the data you stored during training: **training accuracy** and **training loss** and plot them using ````pyplot````."
   ]
  },
  {
   "cell_type": "code",
   "execution_count": null,
   "metadata": {},
   "outputs": [],
   "source": [
    "..."
   ]
  },
  {
   "cell_type": "markdown",
   "metadata": {},
   "source": [
    "### Saving your model\n",
    "Training a depe learning model can be a lot of work, and it can sometimes take hours! To make your model useful and let you re-use the trained model in the future, you can save it down using the code below."
   ]
  },
  {
   "cell_type": "code",
   "execution_count": null,
   "metadata": {
    "collapsed": false,
    "jupyter": {
     "outputs_hidden": false
    }
   },
   "outputs": [],
   "source": [
    "PATH = './cifar_net.pth'\n",
    "torch.save(net.state_dict(), PATH)"
   ]
  },
  {
   "cell_type": "markdown",
   "metadata": {},
   "source": [
    "## Q5 Testing your model\n",
    "Let's test how well our model is doing after training "
   ]
  },
  {
   "cell_type": "code",
   "execution_count": null,
   "metadata": {
    "collapsed": false,
    "jupyter": {
     "outputs_hidden": false
    }
   },
   "outputs": [],
   "source": [
    "outputs = "
   ]
  },
  {
   "cell_type": "code",
   "execution_count": null,
   "metadata": {},
   "outputs": [],
   "source": [
    "correct = 0\n",
    "total = 0\n",
    "net.eval()\n"
   ]
  },
  {
   "cell_type": "code",
   "execution_count": null,
   "metadata": {
    "collapsed": false,
    "jupyter": {
     "outputs_hidden": false
    }
   },
   "outputs": [],
   "source": [
    "for data in testloader:\n",
    "    \n",
    "\n",
    "print('Accuracy of the network on the 10000 test images: %d %%' % (100 * correct / total))"
   ]
  },
  {
   "cell_type": "code",
   "execution_count": null,
   "metadata": {
    "collapsed": false,
    "jupyter": {
     "outputs_hidden": false
    }
   },
   "outputs": [],
   "source": []
  }
 ],
 "metadata": {
  "kernelspec": {
   "display_name": "Python 3",
   "language": "python",
   "name": "python3"
  },
  "language_info": {
   "codemirror_mode": {
    "name": "ipython",
    "version": 3
   },
   "file_extension": ".py",
   "mimetype": "text/x-python",
   "name": "python",
   "nbconvert_exporter": "python",
   "pygments_lexer": "ipython3",
   "version": "3.8.8"
  }
 },
 "nbformat": 4,
 "nbformat_minor": 4
}
